{
 "cells": [
  {
   "cell_type": "code",
   "execution_count": null,
   "metadata": {
    "code_folding": [],
    "collapsed": false,
    "hide_input": true,
    "run_control": {
     "marked": false
    }
   },
   "outputs": [],
   "source": [
    "# initial settings\n",
    "settingsFile = 'settings.cfg'\n",
    "\n",
    "\n",
    "recipeList = ['uves_cal_mbias','uves_cal_predict','uves_cal_mflat','uves_cal_orderpos','uves_cal_wavecal','uves_obs_scired', 'uves_obs_scired']\n",
    "clpRecipes = {}\n",
    "clpResults = {}"
   ]
  },
  {
   "cell_type": "code",
   "execution_count": null,
   "metadata": {
    "code_folding": [
     0
    ],
    "collapsed": false,
    "hide_input": false,
    "run_control": {
     "marked": false
    }
   },
   "outputs": [],
   "source": [
    "# imports\n",
    "import cpl,os, sys\n",
    "from astropy.io import fits\n",
    "import ConfigParser"
   ]
  },
  {
   "cell_type": "code",
   "execution_count": null,
   "metadata": {
    "code_folding": [
     0
    ],
    "collapsed": false,
    "hide_input": false,
    "run_control": {
     "marked": false
    }
   },
   "outputs": [],
   "source": [
    "# Functions\n",
    "def fnSetRecipe(recipe, customConfig = ''):\n",
    "    '''\n",
    "    Function that will initialise a cpl recipe instance. If a custom config file has been given, values in this config \n",
    "    file will be be set on the recipe\n",
    "    '''\n",
    "    cplRecipe = cpl.Recipe(recipe)\n",
    "    \n",
    "    # parameters\n",
    "    for param in cplRecipe.param:\n",
    "        try:\n",
    "            param.value = customConfig.get(recipe,param.name)\n",
    "        except:\n",
    "            param.value = param.default\n",
    "        param.debug = False\n",
    "\n",
    "    return cplRecipe\n",
    "\n",
    "#-----------------------------------------------------------------------------------------------------------------------\n",
    "def fngetRecipeFileList(recipeName = '', dataList= '', keyword= ''):\n",
    "    return [filename for filename in dataList \\\n",
    "                    if keyword.lower() in fits.getheader(filename)['HIERARCH ESO DPR TYPE'].lower()]\n",
    "\n",
    "\n",
    "#-----------------------------------------------------------------------------------------------------------------------\n",
    "def fnUpdateProductList(baseFolder, productList = {}):\n",
    "    fileList =[[filenameFull, fits.getheader(filenameFull)['HIERARCH ESO PRO CATG'] ] \\\n",
    "                      for root, dirs, files in os.walk(baseFolder, topdown=False) \\\n",
    "                      for filenameFull in [os.path.join(root, filename) for filename in files] \\\n",
    "            if filename.endswith('.fits')]\n",
    "    #, fits.getheader(filename)['HIERARCH ESO PRO CATG']\n",
    "    categoryList = list(set([filename[1] for filename in fileList]))\n",
    "    \n",
    "    \n",
    "    productList.update({category: [filename[0] for filename in fileList if category in filename[1] ] \\\n",
    "                   for category in categoryList})\n",
    "    \n",
    "    return productList\n",
    "\n",
    "\n",
    "    \n",
    "    "
   ]
  },
  {
   "cell_type": "code",
   "execution_count": null,
   "metadata": {
    "code_folding": [],
    "collapsed": false,
    "hide_input": false,
    "run_control": {
     "marked": false
    }
   },
   "outputs": [],
   "source": [
    "# Parse Settings\n",
    "cfgFileName = './{}'.format(settingsFile)\n",
    "cfgFile = ConfigParser.RawConfigParser(allow_no_value=True)\n",
    "cfgFile.read(cfgFileName)"
   ]
  },
  {
   "cell_type": "code",
   "execution_count": null,
   "metadata": {
    "code_folding": [],
    "collapsed": true
   },
   "outputs": [],
   "source": [
    "# initialise esorex\n",
    "cpl.esorex.init()"
   ]
  },
  {
   "cell_type": "code",
   "execution_count": null,
   "metadata": {
    "code_folding": [
     0
    ],
    "collapsed": false,
    "hide_input": true,
    "run_control": {
     "marked": false
    }
   },
   "outputs": [],
   "source": [
    "# define folders\n",
    "\n",
    "# data\n",
    "baseDataFolder_raw = os.path.join(cfgFile.get('global','workPath').strip(\"'\"),'RawData',cfgFile.get('global','workDir').strip(\"'\"))\n",
    "baseDataFolder_reduced = os.path.join(cfgFile.get('global','workPath').strip(\"'\"),'reduced',cfgFile.get('global','workDir').strip(\"'\"))\n",
    "\n",
    "# standart calibrations\n",
    "baseCalibrations_raw = os.path.join(cfgFile.get('global','workPath'),'RawData/UVESCalibrationFiles/')\n",
    "\n",
    "# recipe folders\n",
    "outputFolders = {recipe:os.path.join(baseDataFolder_reduced,recipe) for recipe in recipeList}\n",
    "tmpFolder = os.path.join(baseDataFolder_reduced,'tmp')\n"
   ]
  },
  {
   "cell_type": "code",
   "execution_count": null,
   "metadata": {
    "code_folding": [
     0
    ],
    "collapsed": false
   },
   "outputs": [],
   "source": [
    "# defining keywords per recipe\n",
    "# http://www.eso.org/observing/dfo/quality/UVES/pipeline/recipe_calib.html\n",
    "\n",
    "recipeKeywords = {}\n",
    "recipeKeywords['uves_cal_mbias']    = {'DPR_CATG': 'CALIB', 'DPR_TYPE': 'BIAS', \\\n",
    "                                       'TAG': 'BIAS_{}'.format(cfgFile.get('global','arm')),  'PRO_CATG': ['MASTER_BIAS']}\n",
    "\n",
    "recipeKeywords['uves_cal_predict']  = {'DPR_CATG': 'CALIB', 'DPR_TYPE': 'FMTCHK',   \\\n",
    "                                       'TAG': 'ARC_LAMP_FORM_{}'.format(cfgFile.get('global','arm')), 'PRO_CATG': ['LINE_TABLE', 'ORDER_TABLE', 'BACKGROUND_TABLE']}\n",
    "\n",
    "recipeKeywords['uves_cal_orderpos'] = {'DPR_CATG': 'CALIB', 'DPR_TYPE': 'ORDERDEF', \\\n",
    "                                       'TAG': 'ORDER_FLAT_{}'.format(cfgFile.get('global','arm')),    'PRO_CATG': []}\n",
    "\n",
    "recipeKeywords['uves_cal_mflat']    = {'DPR_CATG': 'CALIB', 'DPR_TYPE': 'FLAT',     \\\n",
    "                                       'TAG': 'FLAT_{}'.format(cfgFile.get('global','arm')), 'PRO_CATG': []}\n",
    "\n",
    "recipeKeywords['uves_cal_wavecal']  = {'DPR_CATG': 'CALIB', 'DPR_TYPE': 'WAVE',     \\\n",
    "                                       'TAG': 'ARC_LAMP_{}'.format(cfgFile.get('global','arm')), 'PRO_CATG': []}\n",
    "\n",
    "recipeKeywords['uves_obs_scired']   = {'DPR_CATG': 'SCIENCE', 'DPR_TYPE': 'OBJECT', \\\n",
    "                                       'TAG': 'SCIENCE_{}'.format(cfgFile.get('global','arm')),'PRO_CATG': []} \n",
    "\n",
    "# standard calibrations\n",
    "calibrations_fileList = {}\n",
    "calibrations_fileList['LINE_REFER_TABLE'] = [os.path.join(baseCalibrations_raw, 'thargood_3.fits')]\n",
    "calibrations_fileList['LINE_INTMON_TABLE'] = [os.path.join(baseCalibrations_raw, 'thar_bright.fits')]\n"
   ]
  },
  {
   "cell_type": "code",
   "execution_count": null,
   "metadata": {
    "code_folding": [],
    "collapsed": false
   },
   "outputs": [],
   "source": [
    "# get filelists\n",
    "# data\n",
    "rawData_fileList = [os.path.join(baseDataFolder_raw, filename) for filename in os.listdir(baseDataFolder_raw) if filename.endswith('.fits')]\n",
    "\n",
    "# Recipe file lists:\n",
    "recipeFileLists = {}\n",
    "\n"
   ]
  },
  {
   "cell_type": "code",
   "execution_count": null,
   "metadata": {
    "code_folding": [],
    "collapsed": false,
    "hide_input": true,
    "run_control": {
     "marked": false
    },
    "scrolled": true
   },
   "outputs": [],
   "source": [
    "# 1) create master bias -     uves_cal_mbias \n",
    "\n",
    "recipe = 'uves_cal_mbias'\n",
    "\n",
    "# get input file list\n",
    "recipeFileLists[recipe] = fngetRecipeFileList(recipeName = recipe, \\\n",
    "                                              dataList = rawData_fileList, \\\n",
    "                                              keyword = recipeKeywords[recipe]['DPR_TYPE'])\n",
    "\n",
    "# setup recipe \"uves_cal_mbias\"\n",
    "clpRecipes[recipe] = fnSetRecipe(recipe,cfgFile)\n",
    "\n",
    "# run recipe \"uves_cal_predict\"\n",
    "clpResults[recipe] = clpRecipes[recipe](raw = {recipeKeywords[recipe]['TAG']:recipeFileLists[recipe]}, \\\n",
    "                                        output_dir = outputFolders[recipe], tmp_dir = tmpFolder)\n",
    "\n",
    "clpResults[recipe] = None\n",
    "\n",
    "print '{} complete.'.format(recipe)"
   ]
  },
  {
   "cell_type": "code",
   "execution_count": null,
   "metadata": {
    "code_folding": [
     0
    ],
    "collapsed": false
   },
   "outputs": [],
   "source": [
    "# 2) create guess order and line tables - uves_cal_predict\n",
    "recipe = 'uves_cal_predict'\n",
    "\n",
    "# get input file list\n",
    "recipeFileLists[recipe] = fngetRecipeFileList(recipeName = recipe,\\\n",
    "                                              dataList = rawData_fileList,\\\n",
    "                                              keyword = recipeKeywords[recipe]['DPR_TYPE'])\n",
    "\n",
    "#calibrations_fileList['MASTER_BIAS']                  = [os.path.join(outputFolders['uves_cal_mbias'], filename) \\\n",
    "#                                                   for filename in os.listdir(outputFolders['uves_cal_mbias'])\\\n",
    "#                                                  if 'MASTER_BIAS'.lower() in fits.getheaderos.path.join(outputFolders['uves_cal_mbias'], filename))['HIERARCH ESO PRO CATG'].lower()]\n",
    "# update calibration lists\n",
    "calibrations_fileList.update(fnUpdateProductList(baseDataFolder_reduced, productList = calibrations_fileList))\n",
    "\n",
    "# setup recipe \"uves_cal_predict\"\n",
    "clpRecipes[recipe] = fnSetRecipe(recipe,cfgFile)\n",
    "\n",
    "# run recipe \"uves_cal_predict\"\n",
    "#clpResults[recipe] = clpRecipes[recipe](calibrations_fileList['MASTER_BIAS'], calib = calibrations_fileList, logger=None)\n",
    "\n",
    "\n",
    "clpResults[recipe] = clpRecipes[recipe](raw = {recipeKeywords[recipe]['TAG']:recipeFileLists[recipe]}, \\\n",
    "                                        calib = calibrations_fileList, output_dir = outputFolders[recipe], tmp_dir = tmpFolder)\n",
    "\n",
    "#clpResults[recipe] = None\n",
    "\n",
    "print '{} complete.'.format(recipe)"
   ]
  },
  {
   "cell_type": "code",
   "execution_count": null,
   "metadata": {
    "code_folding": [],
    "collapsed": false,
    "scrolled": true
   },
   "outputs": [],
   "source": [
    "# 3) create order table from order guess table      uves_cal_orderpos\n",
    "recipe = 'uves_cal_orderpos'\n",
    "\n",
    "# get input file list\n",
    "recipeFileLists[recipe] = fngetRecipeFileList(recipeName = recipe,\\\n",
    "                                              dataList = rawData_fileList,\\\n",
    "                                              keyword = recipeKeywords[recipe]['DPR_TYPE'])\n",
    "\n",
    "\n",
    "# update calibration lists\n",
    "calibrations_fileList.update(fnUpdateProductList(baseDataFolder_reduced, productList = calibrations_fileList))\n",
    "\n",
    "# setup recipe \"uves_cal_orderpos\"\n",
    "clpRecipes[recipe] = fnSetRecipe(recipe,cfgFile)\n",
    "\n",
    "# run recipe \"uves_cal_predict\"\n",
    "clpResults[recipe] = clpRecipes[recipe](raw = {recipeKeywords[recipe]['TAG']:recipeFileLists[recipe]}, calib = calibrations_fileList, \\\n",
    "                                        output_dir = outputFolders[recipe], tmp_dir = tmpFolder)\n",
    "\n",
    "clpResults[recipe] = None\n",
    "\n",
    "print '{} complete.'.format(recipe)\n"
   ]
  },
  {
   "cell_type": "code",
   "execution_count": null,
   "metadata": {
    "code_folding": [],
    "collapsed": false,
    "hide_input": true
   },
   "outputs": [],
   "source": [
    "# 4) create master flat - uves_cal_mflat\n",
    "\n",
    "# setup recipe \"uves_cal_mflat\"\n",
    "recipe = 'uves_cal_mflat'\n",
    "\n",
    "# get input file list\n",
    "recipeFileLists[recipe] = fngetRecipeFileList(recipeName = recipe,\\\n",
    "                                              dataList = rawData_fileList,\\\n",
    "                                              keyword = recipeKeywords[recipe]['DPR_TYPE'])\n",
    "\n",
    "\n",
    "# update calibration lists\n",
    "calibrations_fileList.update(fnUpdateProductList(baseDataFolder_reduced, productList = calibrations_fileList))\n",
    "\n",
    "# setup recipe \n",
    "clpRecipes[recipe] = fnSetRecipe(recipe,cfgFile)\n",
    "\n",
    "# run recipe \"uves_cal_predict\"\n",
    "clpResults[recipe] = clpRecipes[recipe](raw = {recipeKeywords[recipe]['TAG']:recipeFileLists[recipe] }, calib = calibrations_fileList, \\\n",
    "                                        output_dir = outputFolders[recipe], tmp_dir = tmpFolder)\n",
    "\n",
    "clpResults[recipe] = None\n",
    "print '{} complete.'.format(recipe)\n",
    "\n"
   ]
  },
  {
   "cell_type": "code",
   "execution_count": null,
   "metadata": {
    "code_folding": [
     0
    ],
    "collapsed": false,
    "scrolled": true
   },
   "outputs": [],
   "source": [
    "# 5) create line calibration table from guess table - uves_cal_wavecal\n",
    "\n",
    "recipe = 'uves_cal_wavecal'\n",
    "\n",
    "# get input file list\n",
    "recipeFileLists[recipe] = fngetRecipeFileList(recipeName = recipe,\\\n",
    "                                              dataList = rawData_fileList,\\\n",
    "                                              keyword = recipeKeywords[recipe]['DPR_TYPE'])\n",
    "\n",
    "\n",
    "# update calibration lists\n",
    "calibrations_fileList.update(fnUpdateProductList(baseDataFolder_reduced, productList = calibrations_fileList))\n",
    "\n",
    "# setup recipe \"uves_cal_mflat\"\n",
    "clpRecipes[recipe] = fnSetRecipe(recipe,cfgFile)\n",
    "\n",
    "# run recipe \"uves_cal_predict\"\n",
    "clpResults[recipe] = clpRecipes[recipe](raw = {recipeKeywords[recipe]['TAG']:recipeFileLists[recipe] }, calib = calibrations_fileList, \\\n",
    "                                        output_dir = outputFolders[recipe], tmp_dir = tmpFolder)\n",
    "\n",
    "clpResults[recipe] = None\n",
    "\n",
    "print '{} complete.'.format(recipe)\n"
   ]
  },
  {
   "cell_type": "code",
   "execution_count": null,
   "metadata": {
    "code_folding": [],
    "collapsed": false
   },
   "outputs": [],
   "source": [
    "# 6) reduce spectra - uves_obs_scired\n",
    "\n",
    "recipe = 'uves_obs_scired'\n",
    "\n",
    "# get input file list\n",
    "recipeFileLists[recipe] = fngetRecipeFileList(recipeName = recipe,\\\n",
    "                                              dataList = rawData_fileList,\\\n",
    "                                              keyword = recipeKeywords[recipe]['DPR_TYPE'])\n",
    "\n",
    "# update calibration lists\n",
    "calibrations_fileList.update(fnUpdateProductList(baseDataFolder_reduced, productList = calibrations_fileList))\n",
    "\n",
    "# setup recipe \"uves_cal_mflat\"\n",
    "clpRecipes[recipe] = fnSetRecipe(recipe,cfgFile)\n",
    "\n",
    "# run recipe \"uves_cal_predict\"\n",
    "for scienceFile in recipeFileLists[recipe]:\n",
    "    clpResults[recipe] = clpRecipes[recipe](raw = {recipeKeywords[recipe]['TAG']:recipeFileLists[recipe] }, calib = calibrations_fileList, \\\n",
    "                                            output_dir = os.path.join(outputFolders[recipe], fits.getheader(scienceFile)['DATE-OBS']), tmp_dir = tmpFolder)"
   ]
  },
  {
   "cell_type": "code",
   "execution_count": null,
   "metadata": {
    "collapsed": true
   },
   "outputs": [],
   "source": []
  }
 ],
 "metadata": {
  "hide_input": true,
  "kernelspec": {
   "display_name": "Python 2",
   "language": "python",
   "name": "python2"
  },
  "language_info": {
   "codemirror_mode": {
    "name": "ipython",
    "version": 2
   },
   "file_extension": ".py",
   "mimetype": "text/x-python",
   "name": "python",
   "nbconvert_exporter": "python",
   "pygments_lexer": "ipython2",
   "version": "2.7.10"
  },
  "latex_envs": {
   "bibliofile": "biblio.bib",
   "cite_by": "apalike",
   "current_citInitial": 1,
   "eqLabelWithNumbers": true,
   "eqNumInitial": 0
  }
 },
 "nbformat": 4,
 "nbformat_minor": 0
}
